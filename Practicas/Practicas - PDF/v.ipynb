Las funciones universales no modifican el objetivo original, si queremos conservar los cambios deberiamos hacer algo  como esto:
